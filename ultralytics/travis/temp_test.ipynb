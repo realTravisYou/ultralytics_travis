{
 "cells": [
  {
   "cell_type": "code",
   "execution_count": 3,
   "id": "8cc5c294",
   "metadata": {},
   "outputs": [],
   "source": [
    "import torch.nn as nn\n",
    "import torch\n",
    "\n",
    "class TorchVision(nn.Module):\n",
    "    \"\"\"\n",
    "    TorchVision module to allow loading any torchvision model.\n",
    "\n",
    "    This class provides a way to load a model from the torchvision library, optionally load pre-trained weights, and customize the model by truncating or unwrapping layers.\n",
    "\n",
    "    Attributes:\n",
    "        m (nn.Module): The loaded torchvision model, possibly truncated and unwrapped.\n",
    "\n",
    "    Args:\n",
    "        model (str): Name of the torchvision model to load.\n",
    "        weights (str, optional): Pre-trained weights to load. Default is \"DEFAULT\".\n",
    "        unwrap (bool, optional): If True, unwraps the model to a sequential containing all but the last `truncate` layers. Default is True.\n",
    "        truncate (int, optional): Number of layers to truncate from the end if `unwrap` is True. Default is 2.\n",
    "        split (bool, optional): Returns output from intermediate child modules as list. Default is False.\n",
    "    \"\"\"\n",
    "\n",
    "    def __init__(\n",
    "        self, model: str, weights: str = \"DEFAULT\", unwrap: bool = True, truncate: int = 2, split: bool = False\n",
    "    ):\n",
    "        \"\"\"\n",
    "        Load the model and weights from torchvision.\n",
    "\n",
    "        Args:\n",
    "            model (str): Name of the torchvision model to load.\n",
    "            weights (str): Pre-trained weights to load.\n",
    "            unwrap (bool): Whether to unwrap the model.\n",
    "            truncate (int): Number of layers to truncate.\n",
    "            split (bool): Whether to split the output.\n",
    "        \"\"\"\n",
    "        import torchvision  # scope for faster 'import ultralytics'\n",
    "\n",
    "        super().__init__()\n",
    "        if hasattr(torchvision.models, \"get_model\"):\n",
    "            self.m = torchvision.models.get_model(model, weights=weights)\n",
    "        else:\n",
    "            self.m = torchvision.models.__dict__[model](pretrained=bool(weights))\n",
    "        if unwrap:\n",
    "            layers = list(self.m.children())\n",
    "            if isinstance(layers[0], nn.Sequential):  # Second-level for some models like EfficientNet, Swin\n",
    "                layers = [*list(layers[0].children()), *layers[1:]]\n",
    "            self.m = nn.Sequential(*(layers[:-truncate] if truncate else layers))\n",
    "            self.split = split\n",
    "        else:\n",
    "            self.split = False\n",
    "            self.m.head = self.m.heads = nn.Identity()\n",
    "\n",
    "    def forward(self, x: torch.Tensor) -> torch.Tensor:\n",
    "        \"\"\"\n",
    "        Forward pass through the model.\n",
    "\n",
    "        Args:\n",
    "            x (torch.Tensor): Input tensor.\n",
    "\n",
    "        Returns:\n",
    "            (torch.Tensor | list[torch.Tensor]): Output tensor or list of tensors.\n",
    "        \"\"\"\n",
    "        if self.split:\n",
    "            y = [x]\n",
    "            y.extend(m(y[-1]) for m in self.m)\n",
    "        else:\n",
    "            y = self.m(x)\n",
    "        return y"
   ]
  },
  {
   "cell_type": "code",
   "execution_count": 5,
   "id": "68f43d1b",
   "metadata": {},
   "outputs": [],
   "source": [
    "model_convnext_tiny = TorchVision('convnext_tiny', 'DEFAULT', True, 2, False)"
   ]
  },
  {
   "cell_type": "code",
   "execution_count": 7,
   "id": "5118596a",
   "metadata": {},
   "outputs": [
    {
     "data": {
      "text/plain": [
       "torch.Size([1, 768, 7, 7])"
      ]
     },
     "execution_count": 7,
     "metadata": {},
     "output_type": "execute_result"
    }
   ],
   "source": [
    "x = torch.randn(1,3,224,224)\n",
    "\n",
    "y = model_convnext_tiny(x)\n",
    "\n",
    "y.shape"
   ]
  },
  {
   "cell_type": "code",
   "execution_count": 8,
   "id": "c76ea04e",
   "metadata": {},
   "outputs": [
    {
     "name": "stderr",
     "output_type": "stream",
     "text": [
      "Downloading: \"https://download.pytorch.org/models/resnext50_32x4d-1a0047aa.pth\" to /home/srs/.cache/torch/hub/checkpoints/resnext50_32x4d-1a0047aa.pth\n",
      "100%|██████████| 95.8M/95.8M [02:36<00:00, 641kB/s] \n"
     ]
    }
   ],
   "source": [
    "model_resnext50_32x4d = TorchVision('resnext50_32x4d', 'DEFAULT', True, 2, False)"
   ]
  },
  {
   "cell_type": "code",
   "execution_count": 9,
   "id": "fea1ecb7",
   "metadata": {},
   "outputs": [
    {
     "data": {
      "text/plain": [
       "torch.Size([1, 2048, 7, 7])"
      ]
     },
     "execution_count": 9,
     "metadata": {},
     "output_type": "execute_result"
    }
   ],
   "source": [
    "y1 = model_resnext50_32x4d(x)\n",
    "\n",
    "y1.shape"
   ]
  },
  {
   "cell_type": "code",
   "execution_count": 11,
   "id": "b6af367c",
   "metadata": {},
   "outputs": [
    {
     "name": "stderr",
     "output_type": "stream",
     "text": [
      "/home/srs/micromamba/envs/yolo/lib/python3.11/site-packages/tqdm/auto.py:21: TqdmWarning: IProgress not found. Please update jupyter and ipywidgets. See https://ipywidgets.readthedocs.io/en/stable/user_install.html\n",
      "  from .autonotebook import tqdm as notebook_tqdm\n"
     ]
    }
   ],
   "source": [
    "import torch\n",
    "import torch.nn as nn\n",
    "import timm\n",
    "\n",
    "\n",
    "class TimmVision(nn.Module):\n",
    "    \"\"\"\n",
    "    TimmVision module to allow loading any timm model with optional features_only output.\n",
    "\n",
    "    Attributes:\n",
    "        m (nn.Module): The loaded timm model or feature extractor.\n",
    "    \"\"\"\n",
    "\n",
    "    def __init__(\n",
    "        self,\n",
    "        model: str,\n",
    "        pretrained: bool = True,\n",
    "        unwrap: bool = True,\n",
    "        truncate: int = 2,\n",
    "        split: bool = False,\n",
    "    ):\n",
    "        \"\"\"\n",
    "        Args:\n",
    "            model (str): Name of the timm model to load.\n",
    "            pretrained (bool): Whether to load pretrained weights.\n",
    "            unwrap (bool): Whether to unwrap into Sequential layers.\n",
    "            truncate (int): Number of layers to remove from the end if unwrap=True.\n",
    "            split (bool): If True, returns intermediate feature maps using timm's features_only.\n",
    "        \"\"\"\n",
    "        super().__init__()\n",
    "\n",
    "        self.split = split\n",
    "\n",
    "        if split:\n",
    "            # Use timm's features_only to get intermediate features\n",
    "            self.m = timm.create_model(model, pretrained=pretrained, features_only=True)\n",
    "        else:\n",
    "            # Standard model\n",
    "            self.m = timm.create_model(model, pretrained=pretrained)\n",
    "            if unwrap:\n",
    "                # Break model into children layers\n",
    "                layers = list(self.m.children())\n",
    "                if isinstance(layers[0], nn.Sequential):  # nested Sequential\n",
    "                    layers = [*list(layers[0].children()), *layers[1:]]\n",
    "                # Truncate last `truncate` layers\n",
    "                self.m = nn.Sequential(*(layers[:-truncate] if truncate else layers))\n",
    "            else:\n",
    "                # Remove classifier / head\n",
    "                for attr in [\"classifier\", \"fc\", \"head\"]:\n",
    "                    if hasattr(self.m, attr):\n",
    "                        setattr(self.m, attr, nn.Identity())\n",
    "\n",
    "    def forward(self, x: torch.Tensor):\n",
    "        if self.split:\n",
    "            # timm features_only returns list of feature maps\n",
    "            return self.m(x)\n",
    "        else:\n",
    "            return self.m(x)\n"
   ]
  },
  {
   "cell_type": "code",
   "execution_count": 12,
   "id": "510802cf",
   "metadata": {},
   "outputs": [
    {
     "name": "stdout",
     "output_type": "stream",
     "text": [
      "['convnext_atto',\n",
      " 'convnext_atto_ols',\n",
      " 'convnext_atto_rms',\n",
      " 'convnext_base',\n",
      " 'convnext_femto',\n",
      " 'convnext_femto_ols',\n",
      " 'convnext_large',\n",
      " 'convnext_large_mlp',\n",
      " 'convnext_nano',\n",
      " 'convnext_nano_ols',\n",
      " 'convnext_pico',\n",
      " 'convnext_pico_ols',\n",
      " 'convnext_small',\n",
      " 'convnext_tiny',\n",
      " 'convnext_tiny_hnf',\n",
      " 'convnext_xlarge',\n",
      " 'convnext_xxlarge',\n",
      " 'convnext_zepto_rms',\n",
      " 'convnext_zepto_rms_ols',\n",
      " 'convnextv2_atto',\n",
      " 'convnextv2_base',\n",
      " 'convnextv2_femto',\n",
      " 'convnextv2_huge',\n",
      " 'convnextv2_large',\n",
      " 'convnextv2_nano',\n",
      " 'convnextv2_pico',\n",
      " 'convnextv2_small',\n",
      " 'convnextv2_tiny',\n",
      " 'test_convnext',\n",
      " 'test_convnext2',\n",
      " 'test_convnext3']\n"
     ]
    }
   ],
   "source": [
    "import timm\n",
    "from pprint import pprint\n",
    "model_names = timm.list_models('*convnext*')\n",
    "pprint(model_names)"
   ]
  },
  {
   "cell_type": "code",
   "execution_count": 13,
   "id": "5a62d4dc",
   "metadata": {},
   "outputs": [],
   "source": [
    "timm_model_convnext_tiny = TimmVision('convnext_tiny')"
   ]
  },
  {
   "cell_type": "code",
   "execution_count": 15,
   "id": "23a7f21f",
   "metadata": {},
   "outputs": [
    {
     "data": {
      "text/plain": [
       "torch.Size([1, 768, 7, 7])"
      ]
     },
     "execution_count": 15,
     "metadata": {},
     "output_type": "execute_result"
    }
   ],
   "source": [
    "y2 = timm_model_convnext_tiny(x)\n",
    "\n",
    "y2.shape"
   ]
  },
  {
   "cell_type": "code",
   "execution_count": null,
   "id": "3a70161a",
   "metadata": {},
   "outputs": [],
   "source": []
  }
 ],
 "metadata": {
  "kernelspec": {
   "display_name": "yolo",
   "language": "python",
   "name": "python3"
  },
  "language_info": {
   "codemirror_mode": {
    "name": "ipython",
    "version": 3
   },
   "file_extension": ".py",
   "mimetype": "text/x-python",
   "name": "python",
   "nbconvert_exporter": "python",
   "pygments_lexer": "ipython3",
   "version": "3.11.12"
  }
 },
 "nbformat": 4,
 "nbformat_minor": 5
}
